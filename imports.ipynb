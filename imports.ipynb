{
  "nbformat": 4,
  "nbformat_minor": 0,
  "metadata": {
    "colab": {
      "name": "imports.ipynb",
      "provenance": []
    },
    "kernelspec": {
      "name": "python3",
      "display_name": "Python 3"
    }
  },
  "cells": [
    {
      "cell_type": "code",
      "metadata": {
        "id": "T8ZQmKRNw7d7"
      },
      "source": [
        "import pandas as pd\r\n",
        "import numpy as np\r\n",
        "from scipy.sparse import csr_matrix\r\n",
        "from sklearn.neighbors import NearestNeighbors\r\n",
        "import matplotlib.pyplot as plt\r\n",
        "import seaborn as sns"
      ],
      "execution_count": null,
      "outputs": []
    },
    {
      "cell_type": "code",
      "metadata": {
        "id": "V7_mlKuwzFtq"
      },
      "source": [
        "food = pd.read_csv(\"/content/food.csv\")\r\n",
        "ratings = pd.read_csv(\"/content/ratings.csv\")"
      ],
      "execution_count": null,
      "outputs": []
    }
  ]
}