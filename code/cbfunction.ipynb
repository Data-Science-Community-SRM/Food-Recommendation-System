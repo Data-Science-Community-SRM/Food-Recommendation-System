{
  "nbformat": 4,
  "nbformat_minor": 0,
  "metadata": {
    "colab": {
      "name": "cbfunction.ipynb",
      "provenance": []
    },
    "kernelspec": {
      "name": "python3",
      "display_name": "Python 3"
    }
  },
  "cells": [
    {
      "cell_type": "code",
      "metadata": {
        "id": "ub__WW8WS6lv"
      },
      "source": [
        "def food_recommendation(Food_Name):\r\n",
        "    n = 10\r\n",
        "    FoodList = food[food['Name'].str.contains(Food_Name)]  \r\n",
        "    if len(FoodList):        \r\n",
        "        Foodi= FoodList.iloc[0]['Food_ID']\r\n",
        "        Foodi = dataset[dataset['Food_ID'] == Foodi].index[0]\r\n",
        "        distances , indices = model.kneighbors(csr_dataset[Foodi],n_neighbors=n+1)    \r\n",
        "        Food_indices = sorted(list(zip(indices.squeeze().tolist(),distances.squeeze().tolist())),key=lambda x: x[1])[:0:-1]\r\n",
        "        Recommendations = []\r\n",
        "        for val in Food_indices:\r\n",
        "            Foodi = dataset.iloc[val[0]]['Food_ID']\r\n",
        "            i = food[food['Food_ID'] == Foodi].index\r\n",
        "            Recommendations.append({'Name':food.iloc[i]['Name'].values[0],'Distance':val[1]})\r\n",
        "        df = pd.DataFrame(Recommendations,index=range(1,n+1))\r\n",
        "        return df['Name']\r\n",
        "    else:\r\n",
        "        return \"No Similar Foods.\""
      ],
      "execution_count": null,
      "outputs": []
    },
    {
      "cell_type": "code",
      "metadata": {
        "id": "ptKWvfyE0OGE"
      },
      "source": [
        "food_recommendation('summer squash salad')"
      ],
      "execution_count": null,
      "outputs": []
    }
  ]
}