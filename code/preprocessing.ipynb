{
  "nbformat": 4,
  "nbformat_minor": 0,
  "metadata": {
    "colab": {
      "name": "preprocessing.ipynb",
      "provenance": []
    },
    "kernelspec": {
      "name": "python3",
      "display_name": "Python 3"
    }
  },
  "cells": [
    {
      "cell_type": "code",
      "metadata": {
        "id": "rQepTWkDzktG"
      },
      "source": [
        "dataset = ratings.pivot_table(index='Food_ID',columns='User_ID',values='Rating')"
      ],
      "execution_count": null,
      "outputs": []
    },
    {
      "cell_type": "code",
      "metadata": {
        "id": "m4b2WAatzqkM"
      },
      "source": [
        "dataset.fillna(0,inplace=True)"
      ],
      "execution_count": null,
      "outputs": []
    },
    {
      "cell_type": "code",
      "metadata": {
        "id": "vK9-8t2xztVM"
      },
      "source": [
        "csr_dataset = csr_matrix(dataset.values)\r\n",
        "dataset.reset_index(inplace=True)"
      ],
      "execution_count": null,
      "outputs": []
    }
  ]
}